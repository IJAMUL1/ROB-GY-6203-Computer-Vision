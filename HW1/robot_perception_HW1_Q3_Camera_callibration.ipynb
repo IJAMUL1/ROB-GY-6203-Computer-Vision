{
 "cells": [
  {
   "cell_type": "code",
   "execution_count": 42,
   "id": "26a88a4c",
   "metadata": {},
   "outputs": [],
   "source": [
    "import numpy as np\n",
    "import cv2\n",
    "import glob\n",
    "\n",
    "# Termination criteria for subpixel refinement\n",
    "criteria = (cv2.TERM_CRITERIA_EPS + cv2.TERM_CRITERIA_MAX_ITER, 30, 0.001)\n",
    "\n",
    "# Prepare object points, like (0,0,0), (1,0,0), (2,0,0) ....,(6,5,0)\n",
    "objp = np.zeros((7 * 9,3), np.float32)\n",
    "objp[:, :2] = np.mgrid[0:9,0:7].T.reshape(-1, 2)\n",
    "\n",
    "# Arrays to store object points and image points from all the images.\n",
    "objpoints = []  # 3D point in real-world space\n",
    "imgpoints = []  # 2D points in the image plane.\n",
    "\n",
    "images = glob.glob('C:/Users/ifeda/OneDrive/Pictures/Documents/Fall 2023/Robot Perception/HW1/Calibration_Images/*.jpg')  # Replace with your image directory\n",
    "\n",
    "for fname in images:\n",
    "    img = cv2.imread(fname)\n",
    "    gray = cv2.cvtColor(img, cv2.COLOR_BGR2GRAY)\n",
    "\n",
    "    # Find the chessboard corners\n",
    "    ret, corners = cv2.findChessboardCorners(gray, (9,7), None)\n",
    "\n",
    "    # If found, add object points and image points (after refining them)\n",
    "    if ret == True:\n",
    "        objpoints.append(objp)\n",
    "\n",
    "        # Refine corner positions for better accuracy\n",
    "        corners2 = cv2.cornerSubPix(gray, corners, (11, 11), (-1, -1), criteria)\n",
    "        imgpoints.append(corners2)\n",
    "\n",
    "# Perform camera calibration\n",
    "ret, mtx, dist, rvecs, tvecs = cv2.calibrateCamera(objpoints, imgpoints, gray.shape[::-1], None, None)\n",
    "\n",
    "# Save calibration results\n",
    "np.savez('C:/Users/ifeda/OneDrive/Pictures/Documents/Fall 2023/Robot Perception/HW1/calibration_result.npz', mtx=mtx, dist=dist, rvecs=rvecs, tvecs=tvecs)\n",
    "\n"
   ]
  },
  {
   "cell_type": "code",
   "execution_count": 48,
   "id": "c07f60f4",
   "metadata": {},
   "outputs": [
    {
     "name": "stdout",
     "output_type": "stream",
     "text": [
      "[[589.71911352   0.         308.98611708]\n",
      " [  0.         589.52255378 270.53585099]\n",
      " [  0.           0.           1.        ]]\n"
     ]
    }
   ],
   "source": [
    "#Camera Matrix\n",
    "print(mtx)"
   ]
  },
  {
   "cell_type": "code",
   "execution_count": 46,
   "id": "87db589e",
   "metadata": {},
   "outputs": [
    {
     "name": "stdout",
     "output_type": "stream",
     "text": [
      "[-0.07590859  0.03753864]\n"
     ]
    }
   ],
   "source": [
    "#top two distortion coeffs (K1,K2)\n",
    "print(dist[0][:2])"
   ]
  },
  {
   "cell_type": "code",
   "execution_count": 47,
   "id": "df674196",
   "metadata": {},
   "outputs": [
    {
     "name": "stdout",
     "output_type": "stream",
     "text": [
      "Mean Reprojection Error: 0.03296262472269277\n"
     ]
    }
   ],
   "source": [
    "# Calculate reprojection error\n",
    "mean_error = 0  # Initialize mean error\n",
    "for i in range(len(objpoints)):\n",
    "    # Project the object points onto the image plane using calibration parameters\n",
    "    image_points_reprojected, _ = cv2.projectPoints(objpoints[i], rvecs[i], tvecs[i], mtx, dist)\n",
    "\n",
    "    # Calculate the absolute error between the detected image points and the reprojected points\n",
    "    error = cv2.norm(imgpoints[i], image_points_reprojected, cv2.NORM_L2) / len(image_points_reprojected)\n",
    "\n",
    "    # Accumulate the errors for all images\n",
    "    mean_error += error\n",
    "\n",
    "# Calculate the mean reprojection error across all images\n",
    "mean_error /= len(objpoints)\n",
    "\n",
    "print(f\"Mean Reprojection Error: {mean_error}\")"
   ]
  }
 ],
 "metadata": {
  "kernelspec": {
   "display_name": "Python 3 (ipykernel)",
   "language": "python",
   "name": "python3"
  },
  "language_info": {
   "codemirror_mode": {
    "name": "ipython",
    "version": 3
   },
   "file_extension": ".py",
   "mimetype": "text/x-python",
   "name": "python",
   "nbconvert_exporter": "python",
   "pygments_lexer": "ipython3",
   "version": "3.11.5"
  }
 },
 "nbformat": 4,
 "nbformat_minor": 5
}
