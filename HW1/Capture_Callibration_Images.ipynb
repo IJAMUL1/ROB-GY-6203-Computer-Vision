{
 "cells": [
  {
   "cell_type": "code",
   "execution_count": 6,
   "id": "a6acd9ec",
   "metadata": {
    "scrolled": true
   },
   "outputs": [
    {
     "name": "stdout",
     "output_type": "stream",
     "text": [
      "Saved: C:\\Users\\ifeda\\OneDrive\\Pictures\\Documents\\Fall 2023\\Robot Perception\\HW1\\Calibration_Images\\calibration_image_1.jpg\n",
      "Images captured: 1/10\n",
      "Saved: C:\\Users\\ifeda\\OneDrive\\Pictures\\Documents\\Fall 2023\\Robot Perception\\HW1\\Calibration_Images\\calibration_image_2.jpg\n",
      "Images captured: 2/10\n",
      "Saved: C:\\Users\\ifeda\\OneDrive\\Pictures\\Documents\\Fall 2023\\Robot Perception\\HW1\\Calibration_Images\\calibration_image_3.jpg\n",
      "Images captured: 3/10\n",
      "Saved: C:\\Users\\ifeda\\OneDrive\\Pictures\\Documents\\Fall 2023\\Robot Perception\\HW1\\Calibration_Images\\calibration_image_4.jpg\n",
      "Images captured: 4/10\n",
      "Saved: C:\\Users\\ifeda\\OneDrive\\Pictures\\Documents\\Fall 2023\\Robot Perception\\HW1\\Calibration_Images\\calibration_image_5.jpg\n",
      "Images captured: 5/10\n",
      "Saved: C:\\Users\\ifeda\\OneDrive\\Pictures\\Documents\\Fall 2023\\Robot Perception\\HW1\\Calibration_Images\\calibration_image_6.jpg\n",
      "Images captured: 6/10\n",
      "Saved: C:\\Users\\ifeda\\OneDrive\\Pictures\\Documents\\Fall 2023\\Robot Perception\\HW1\\Calibration_Images\\calibration_image_7.jpg\n",
      "Images captured: 7/10\n",
      "Saved: C:\\Users\\ifeda\\OneDrive\\Pictures\\Documents\\Fall 2023\\Robot Perception\\HW1\\Calibration_Images\\calibration_image_8.jpg\n",
      "Images captured: 8/10\n",
      "Saved: C:\\Users\\ifeda\\OneDrive\\Pictures\\Documents\\Fall 2023\\Robot Perception\\HW1\\Calibration_Images\\calibration_image_9.jpg\n",
      "Images captured: 9/10\n",
      "Saved: C:\\Users\\ifeda\\OneDrive\\Pictures\\Documents\\Fall 2023\\Robot Perception\\HW1\\Calibration_Images\\calibration_image_10.jpg\n",
      "Images captured: 10/10\n",
      "Image capture completed.\n"
     ]
    }
   ],
   "source": [
    "import cv2\n",
    "import os\n",
    "\n",
    "def capture_calibration_images(save_directory, num_images_to_capture=12):\n",
    "    # Create a VideoCapture object for your webcam (usually 0 for the default webcam)\n",
    "    cap = cv2.VideoCapture(0)\n",
    "\n",
    "    # Create a window to display the live webcam feed\n",
    "    cv2.namedWindow(\"Calibration Image Capture\")\n",
    "\n",
    "    # Create a counter to track the number of calibration images captured\n",
    "    image_counter = 0\n",
    "\n",
    "    # Create the directory if it doesn't exist\n",
    "    if not os.path.exists(save_directory):\n",
    "        os.makedirs(save_directory)\n",
    "\n",
    "    try:\n",
    "        while image_counter < num_images_to_capture:\n",
    "            # Capture a frame from the webcam\n",
    "            ret, frame = cap.read()\n",
    "\n",
    "            # Display the live feed\n",
    "            cv2.imshow(\"Calibration Image Capture\", frame)\n",
    "\n",
    "            # Check for user input to capture an image\n",
    "            key = cv2.waitKey(1)\n",
    "\n",
    "            if key == ord('c'):\n",
    "                # Increment the image counter\n",
    "                image_counter += 1\n",
    "\n",
    "                # Generate a filename for the captured image\n",
    "                image_filename = os.path.join(save_directory, f'calibration_image_{image_counter}.jpg')\n",
    "\n",
    "                # Save the captured image\n",
    "                cv2.imwrite(image_filename, frame)\n",
    "                print(f\"Saved: {image_filename}\")\n",
    "\n",
    "                # Display the number of images captured\n",
    "                print(f\"Images captured: {image_counter}/{num_images_to_capture}\")\n",
    "\n",
    "            # Check for user input to exit the capture process\n",
    "            elif key == ord('q'):\n",
    "                break\n",
    "\n",
    "    finally:\n",
    "        # Release the webcam and close the OpenCV window\n",
    "        cap.release()\n",
    "        cv2.destroyAllWindows()\n",
    "\n",
    "        print(\"Image capture completed.\")\n",
    "\n",
    "if __name__ == \"__main__\":\n",
    "    # Directory where calibration images will be saved\n",
    "    save_directory = r'C:\\Users\\ifeda\\OneDrive\\Pictures\\Documents\\Fall 2023\\Robot Perception\\HW1\\Calibration_Images'  # Change this to your desired directory\n",
    "\n",
    "    # Number of calibration images to capture (optional, defaults to 12)\n",
    "    num_images_to_capture = 10\n",
    "\n",
    "    capture_calibration_images(save_directory, num_images_to_capture)\n"
   ]
  },
  {
   "cell_type": "code",
   "execution_count": null,
   "id": "70b63b02",
   "metadata": {},
   "outputs": [],
   "source": []
  },
  {
   "cell_type": "code",
   "execution_count": null,
   "id": "e9b37dc3",
   "metadata": {},
   "outputs": [],
   "source": []
  },
  {
   "cell_type": "code",
   "execution_count": null,
   "id": "601b78e6",
   "metadata": {},
   "outputs": [],
   "source": []
  }
 ],
 "metadata": {
  "kernelspec": {
   "display_name": "Python 3 (ipykernel)",
   "language": "python",
   "name": "python3"
  },
  "language_info": {
   "codemirror_mode": {
    "name": "ipython",
    "version": 3
   },
   "file_extension": ".py",
   "mimetype": "text/x-python",
   "name": "python",
   "nbconvert_exporter": "python",
   "pygments_lexer": "ipython3",
   "version": "3.11.5"
  }
 },
 "nbformat": 4,
 "nbformat_minor": 5
}
