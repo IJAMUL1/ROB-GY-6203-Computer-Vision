{
  "nbformat": 4,
  "nbformat_minor": 0,
  "metadata": {
    "colab": {
      "provenance": []
    },
    "kernelspec": {
      "name": "python3",
      "display_name": "Python 3"
    },
    "language_info": {
      "name": "python"
    },
    "widgets": {
      "application/vnd.jupyter.widget-state+json": {
        "5b480a3f10b94b4ca97b5c5ddddc67c7": {
          "model_module": "@jupyter-widgets/controls",
          "model_name": "VBoxModel",
          "model_module_version": "1.5.0",
          "state": {
            "_dom_classes": [
              "widget-interact"
            ],
            "_model_module": "@jupyter-widgets/controls",
            "_model_module_version": "1.5.0",
            "_model_name": "VBoxModel",
            "_view_count": null,
            "_view_module": "@jupyter-widgets/controls",
            "_view_module_version": "1.5.0",
            "_view_name": "VBoxView",
            "box_style": "",
            "children": [
              "IPY_MODEL_138e00154d9c44b38bda9b76c7e947cc",
              "IPY_MODEL_b0d3779dc8484a0ab668deac20a37fd0",
              "IPY_MODEL_86a8f480387e435698363572ae8c2a5b",
              "IPY_MODEL_716ef25fd55745c1bd00b083d85abe77",
              "IPY_MODEL_f0121806b93543d0b3aa9039b959a924",
              "IPY_MODEL_be04532eb79948759dbdea41a2148218",
              "IPY_MODEL_7c89ec5e1c4e45e7b6bdac0150016914"
            ],
            "layout": "IPY_MODEL_ea3ce90aa7d9499d86729e82973077de"
          }
        },
        "138e00154d9c44b38bda9b76c7e947cc": {
          "model_module": "@jupyter-widgets/controls",
          "model_name": "IntSliderModel",
          "model_module_version": "1.5.0",
          "state": {
            "_dom_classes": [],
            "_model_module": "@jupyter-widgets/controls",
            "_model_module_version": "1.5.0",
            "_model_name": "IntSliderModel",
            "_view_count": null,
            "_view_module": "@jupyter-widgets/controls",
            "_view_module_version": "1.5.0",
            "_view_name": "IntSliderView",
            "continuous_update": true,
            "description": "Hue Low",
            "description_tooltip": null,
            "disabled": false,
            "layout": "IPY_MODEL_56db5196218e4f288dc3e4a8aa521eba",
            "max": 180,
            "min": 0,
            "orientation": "horizontal",
            "readout": true,
            "readout_format": "d",
            "step": 1,
            "style": "IPY_MODEL_cb94e29dfca54f2bb5ab56fee0985160",
            "value": 0
          }
        },
        "b0d3779dc8484a0ab668deac20a37fd0": {
          "model_module": "@jupyter-widgets/controls",
          "model_name": "IntSliderModel",
          "model_module_version": "1.5.0",
          "state": {
            "_dom_classes": [],
            "_model_module": "@jupyter-widgets/controls",
            "_model_module_version": "1.5.0",
            "_model_name": "IntSliderModel",
            "_view_count": null,
            "_view_module": "@jupyter-widgets/controls",
            "_view_module_version": "1.5.0",
            "_view_name": "IntSliderView",
            "continuous_update": true,
            "description": "Hue High",
            "description_tooltip": null,
            "disabled": false,
            "layout": "IPY_MODEL_a95ace0947874e58899f55c33f89d462",
            "max": 180,
            "min": 0,
            "orientation": "horizontal",
            "readout": true,
            "readout_format": "d",
            "step": 1,
            "style": "IPY_MODEL_d1883dc3fa8643f0bf9cabce49f91cc1",
            "value": 30
          }
        },
        "86a8f480387e435698363572ae8c2a5b": {
          "model_module": "@jupyter-widgets/controls",
          "model_name": "IntSliderModel",
          "model_module_version": "1.5.0",
          "state": {
            "_dom_classes": [],
            "_model_module": "@jupyter-widgets/controls",
            "_model_module_version": "1.5.0",
            "_model_name": "IntSliderModel",
            "_view_count": null,
            "_view_module": "@jupyter-widgets/controls",
            "_view_module_version": "1.5.0",
            "_view_name": "IntSliderView",
            "continuous_update": true,
            "description": "Saturation Low",
            "description_tooltip": null,
            "disabled": false,
            "layout": "IPY_MODEL_60e7eac45ad446978edb83bb795d4150",
            "max": 255,
            "min": 0,
            "orientation": "horizontal",
            "readout": true,
            "readout_format": "d",
            "step": 1,
            "style": "IPY_MODEL_32679fc25b824c36bc8aeaca138b9ce6",
            "value": 50
          }
        },
        "716ef25fd55745c1bd00b083d85abe77": {
          "model_module": "@jupyter-widgets/controls",
          "model_name": "IntSliderModel",
          "model_module_version": "1.5.0",
          "state": {
            "_dom_classes": [],
            "_model_module": "@jupyter-widgets/controls",
            "_model_module_version": "1.5.0",
            "_model_name": "IntSliderModel",
            "_view_count": null,
            "_view_module": "@jupyter-widgets/controls",
            "_view_module_version": "1.5.0",
            "_view_name": "IntSliderView",
            "continuous_update": true,
            "description": "Saturation High",
            "description_tooltip": null,
            "disabled": false,
            "layout": "IPY_MODEL_a2d0356a13944f99850ec905a013d305",
            "max": 255,
            "min": 0,
            "orientation": "horizontal",
            "readout": true,
            "readout_format": "d",
            "step": 1,
            "style": "IPY_MODEL_76bc99604f2a44d2bff1b377b5c3f1dc",
            "value": 255
          }
        },
        "f0121806b93543d0b3aa9039b959a924": {
          "model_module": "@jupyter-widgets/controls",
          "model_name": "IntSliderModel",
          "model_module_version": "1.5.0",
          "state": {
            "_dom_classes": [],
            "_model_module": "@jupyter-widgets/controls",
            "_model_module_version": "1.5.0",
            "_model_name": "IntSliderModel",
            "_view_count": null,
            "_view_module": "@jupyter-widgets/controls",
            "_view_module_version": "1.5.0",
            "_view_name": "IntSliderView",
            "continuous_update": true,
            "description": "Value Low",
            "description_tooltip": null,
            "disabled": false,
            "layout": "IPY_MODEL_b06ee85c239b4136868223f30f53407b",
            "max": 255,
            "min": 0,
            "orientation": "horizontal",
            "readout": true,
            "readout_format": "d",
            "step": 1,
            "style": "IPY_MODEL_ec6e088c5e0d452782d13319acd201e3",
            "value": 50
          }
        },
        "be04532eb79948759dbdea41a2148218": {
          "model_module": "@jupyter-widgets/controls",
          "model_name": "IntSliderModel",
          "model_module_version": "1.5.0",
          "state": {
            "_dom_classes": [],
            "_model_module": "@jupyter-widgets/controls",
            "_model_module_version": "1.5.0",
            "_model_name": "IntSliderModel",
            "_view_count": null,
            "_view_module": "@jupyter-widgets/controls",
            "_view_module_version": "1.5.0",
            "_view_name": "IntSliderView",
            "continuous_update": true,
            "description": "Value High",
            "description_tooltip": null,
            "disabled": false,
            "layout": "IPY_MODEL_3451e04e7f1d4740b68c38c212644bd1",
            "max": 255,
            "min": 0,
            "orientation": "horizontal",
            "readout": true,
            "readout_format": "d",
            "step": 1,
            "style": "IPY_MODEL_986bd9630a1c453c8d7db0f99bcfb27e",
            "value": 255
          }
        },
        "7c89ec5e1c4e45e7b6bdac0150016914": {
          "model_module": "@jupyter-widgets/output",
          "model_name": "OutputModel",
          "model_module_version": "1.0.0",
          "state": {
            "_dom_classes": [],
            "_model_module": "@jupyter-widgets/output",
            "_model_module_version": "1.0.0",
            "_model_name": "OutputModel",
            "_view_count": null,
            "_view_module": "@jupyter-widgets/output",
            "_view_module_version": "1.0.0",
            "_view_name": "OutputView",
            "layout": "IPY_MODEL_094e5d744afd42e3bb6713e5212da3ae",
            "msg_id": "",
            "outputs": [
              {
                "output_type": "display_data",
                "data": {
                  "text/plain": "<Figure size 600x600 with 1 Axes>",
                  "image/png": "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\n"
                },
                "metadata": {}
              }
            ]
          }
        },
        "ea3ce90aa7d9499d86729e82973077de": {
          "model_module": "@jupyter-widgets/base",
          "model_name": "LayoutModel",
          "model_module_version": "1.2.0",
          "state": {
            "_model_module": "@jupyter-widgets/base",
            "_model_module_version": "1.2.0",
            "_model_name": "LayoutModel",
            "_view_count": null,
            "_view_module": "@jupyter-widgets/base",
            "_view_module_version": "1.2.0",
            "_view_name": "LayoutView",
            "align_content": null,
            "align_items": null,
            "align_self": null,
            "border": null,
            "bottom": null,
            "display": null,
            "flex": null,
            "flex_flow": null,
            "grid_area": null,
            "grid_auto_columns": null,
            "grid_auto_flow": null,
            "grid_auto_rows": null,
            "grid_column": null,
            "grid_gap": null,
            "grid_row": null,
            "grid_template_areas": null,
            "grid_template_columns": null,
            "grid_template_rows": null,
            "height": null,
            "justify_content": null,
            "justify_items": null,
            "left": null,
            "margin": null,
            "max_height": null,
            "max_width": null,
            "min_height": null,
            "min_width": null,
            "object_fit": null,
            "object_position": null,
            "order": null,
            "overflow": null,
            "overflow_x": null,
            "overflow_y": null,
            "padding": null,
            "right": null,
            "top": null,
            "visibility": null,
            "width": null
          }
        },
        "56db5196218e4f288dc3e4a8aa521eba": {
          "model_module": "@jupyter-widgets/base",
          "model_name": "LayoutModel",
          "model_module_version": "1.2.0",
          "state": {
            "_model_module": "@jupyter-widgets/base",
            "_model_module_version": "1.2.0",
            "_model_name": "LayoutModel",
            "_view_count": null,
            "_view_module": "@jupyter-widgets/base",
            "_view_module_version": "1.2.0",
            "_view_name": "LayoutView",
            "align_content": null,
            "align_items": null,
            "align_self": null,
            "border": null,
            "bottom": null,
            "display": null,
            "flex": null,
            "flex_flow": null,
            "grid_area": null,
            "grid_auto_columns": null,
            "grid_auto_flow": null,
            "grid_auto_rows": null,
            "grid_column": null,
            "grid_gap": null,
            "grid_row": null,
            "grid_template_areas": null,
            "grid_template_columns": null,
            "grid_template_rows": null,
            "height": null,
            "justify_content": null,
            "justify_items": null,
            "left": null,
            "margin": null,
            "max_height": null,
            "max_width": null,
            "min_height": null,
            "min_width": null,
            "object_fit": null,
            "object_position": null,
            "order": null,
            "overflow": null,
            "overflow_x": null,
            "overflow_y": null,
            "padding": null,
            "right": null,
            "top": null,
            "visibility": null,
            "width": null
          }
        },
        "cb94e29dfca54f2bb5ab56fee0985160": {
          "model_module": "@jupyter-widgets/controls",
          "model_name": "SliderStyleModel",
          "model_module_version": "1.5.0",
          "state": {
            "_model_module": "@jupyter-widgets/controls",
            "_model_module_version": "1.5.0",
            "_model_name": "SliderStyleModel",
            "_view_count": null,
            "_view_module": "@jupyter-widgets/base",
            "_view_module_version": "1.2.0",
            "_view_name": "StyleView",
            "description_width": "",
            "handle_color": null
          }
        },
        "a95ace0947874e58899f55c33f89d462": {
          "model_module": "@jupyter-widgets/base",
          "model_name": "LayoutModel",
          "model_module_version": "1.2.0",
          "state": {
            "_model_module": "@jupyter-widgets/base",
            "_model_module_version": "1.2.0",
            "_model_name": "LayoutModel",
            "_view_count": null,
            "_view_module": "@jupyter-widgets/base",
            "_view_module_version": "1.2.0",
            "_view_name": "LayoutView",
            "align_content": null,
            "align_items": null,
            "align_self": null,
            "border": null,
            "bottom": null,
            "display": null,
            "flex": null,
            "flex_flow": null,
            "grid_area": null,
            "grid_auto_columns": null,
            "grid_auto_flow": null,
            "grid_auto_rows": null,
            "grid_column": null,
            "grid_gap": null,
            "grid_row": null,
            "grid_template_areas": null,
            "grid_template_columns": null,
            "grid_template_rows": null,
            "height": null,
            "justify_content": null,
            "justify_items": null,
            "left": null,
            "margin": null,
            "max_height": null,
            "max_width": null,
            "min_height": null,
            "min_width": null,
            "object_fit": null,
            "object_position": null,
            "order": null,
            "overflow": null,
            "overflow_x": null,
            "overflow_y": null,
            "padding": null,
            "right": null,
            "top": null,
            "visibility": null,
            "width": null
          }
        },
        "d1883dc3fa8643f0bf9cabce49f91cc1": {
          "model_module": "@jupyter-widgets/controls",
          "model_name": "SliderStyleModel",
          "model_module_version": "1.5.0",
          "state": {
            "_model_module": "@jupyter-widgets/controls",
            "_model_module_version": "1.5.0",
            "_model_name": "SliderStyleModel",
            "_view_count": null,
            "_view_module": "@jupyter-widgets/base",
            "_view_module_version": "1.2.0",
            "_view_name": "StyleView",
            "description_width": "",
            "handle_color": null
          }
        },
        "60e7eac45ad446978edb83bb795d4150": {
          "model_module": "@jupyter-widgets/base",
          "model_name": "LayoutModel",
          "model_module_version": "1.2.0",
          "state": {
            "_model_module": "@jupyter-widgets/base",
            "_model_module_version": "1.2.0",
            "_model_name": "LayoutModel",
            "_view_count": null,
            "_view_module": "@jupyter-widgets/base",
            "_view_module_version": "1.2.0",
            "_view_name": "LayoutView",
            "align_content": null,
            "align_items": null,
            "align_self": null,
            "border": null,
            "bottom": null,
            "display": null,
            "flex": null,
            "flex_flow": null,
            "grid_area": null,
            "grid_auto_columns": null,
            "grid_auto_flow": null,
            "grid_auto_rows": null,
            "grid_column": null,
            "grid_gap": null,
            "grid_row": null,
            "grid_template_areas": null,
            "grid_template_columns": null,
            "grid_template_rows": null,
            "height": null,
            "justify_content": null,
            "justify_items": null,
            "left": null,
            "margin": null,
            "max_height": null,
            "max_width": null,
            "min_height": null,
            "min_width": null,
            "object_fit": null,
            "object_position": null,
            "order": null,
            "overflow": null,
            "overflow_x": null,
            "overflow_y": null,
            "padding": null,
            "right": null,
            "top": null,
            "visibility": null,
            "width": null
          }
        },
        "32679fc25b824c36bc8aeaca138b9ce6": {
          "model_module": "@jupyter-widgets/controls",
          "model_name": "SliderStyleModel",
          "model_module_version": "1.5.0",
          "state": {
            "_model_module": "@jupyter-widgets/controls",
            "_model_module_version": "1.5.0",
            "_model_name": "SliderStyleModel",
            "_view_count": null,
            "_view_module": "@jupyter-widgets/base",
            "_view_module_version": "1.2.0",
            "_view_name": "StyleView",
            "description_width": "",
            "handle_color": null
          }
        },
        "a2d0356a13944f99850ec905a013d305": {
          "model_module": "@jupyter-widgets/base",
          "model_name": "LayoutModel",
          "model_module_version": "1.2.0",
          "state": {
            "_model_module": "@jupyter-widgets/base",
            "_model_module_version": "1.2.0",
            "_model_name": "LayoutModel",
            "_view_count": null,
            "_view_module": "@jupyter-widgets/base",
            "_view_module_version": "1.2.0",
            "_view_name": "LayoutView",
            "align_content": null,
            "align_items": null,
            "align_self": null,
            "border": null,
            "bottom": null,
            "display": null,
            "flex": null,
            "flex_flow": null,
            "grid_area": null,
            "grid_auto_columns": null,
            "grid_auto_flow": null,
            "grid_auto_rows": null,
            "grid_column": null,
            "grid_gap": null,
            "grid_row": null,
            "grid_template_areas": null,
            "grid_template_columns": null,
            "grid_template_rows": null,
            "height": null,
            "justify_content": null,
            "justify_items": null,
            "left": null,
            "margin": null,
            "max_height": null,
            "max_width": null,
            "min_height": null,
            "min_width": null,
            "object_fit": null,
            "object_position": null,
            "order": null,
            "overflow": null,
            "overflow_x": null,
            "overflow_y": null,
            "padding": null,
            "right": null,
            "top": null,
            "visibility": null,
            "width": null
          }
        },
        "76bc99604f2a44d2bff1b377b5c3f1dc": {
          "model_module": "@jupyter-widgets/controls",
          "model_name": "SliderStyleModel",
          "model_module_version": "1.5.0",
          "state": {
            "_model_module": "@jupyter-widgets/controls",
            "_model_module_version": "1.5.0",
            "_model_name": "SliderStyleModel",
            "_view_count": null,
            "_view_module": "@jupyter-widgets/base",
            "_view_module_version": "1.2.0",
            "_view_name": "StyleView",
            "description_width": "",
            "handle_color": null
          }
        },
        "b06ee85c239b4136868223f30f53407b": {
          "model_module": "@jupyter-widgets/base",
          "model_name": "LayoutModel",
          "model_module_version": "1.2.0",
          "state": {
            "_model_module": "@jupyter-widgets/base",
            "_model_module_version": "1.2.0",
            "_model_name": "LayoutModel",
            "_view_count": null,
            "_view_module": "@jupyter-widgets/base",
            "_view_module_version": "1.2.0",
            "_view_name": "LayoutView",
            "align_content": null,
            "align_items": null,
            "align_self": null,
            "border": null,
            "bottom": null,
            "display": null,
            "flex": null,
            "flex_flow": null,
            "grid_area": null,
            "grid_auto_columns": null,
            "grid_auto_flow": null,
            "grid_auto_rows": null,
            "grid_column": null,
            "grid_gap": null,
            "grid_row": null,
            "grid_template_areas": null,
            "grid_template_columns": null,
            "grid_template_rows": null,
            "height": null,
            "justify_content": null,
            "justify_items": null,
            "left": null,
            "margin": null,
            "max_height": null,
            "max_width": null,
            "min_height": null,
            "min_width": null,
            "object_fit": null,
            "object_position": null,
            "order": null,
            "overflow": null,
            "overflow_x": null,
            "overflow_y": null,
            "padding": null,
            "right": null,
            "top": null,
            "visibility": null,
            "width": null
          }
        },
        "ec6e088c5e0d452782d13319acd201e3": {
          "model_module": "@jupyter-widgets/controls",
          "model_name": "SliderStyleModel",
          "model_module_version": "1.5.0",
          "state": {
            "_model_module": "@jupyter-widgets/controls",
            "_model_module_version": "1.5.0",
            "_model_name": "SliderStyleModel",
            "_view_count": null,
            "_view_module": "@jupyter-widgets/base",
            "_view_module_version": "1.2.0",
            "_view_name": "StyleView",
            "description_width": "",
            "handle_color": null
          }
        },
        "3451e04e7f1d4740b68c38c212644bd1": {
          "model_module": "@jupyter-widgets/base",
          "model_name": "LayoutModel",
          "model_module_version": "1.2.0",
          "state": {
            "_model_module": "@jupyter-widgets/base",
            "_model_module_version": "1.2.0",
            "_model_name": "LayoutModel",
            "_view_count": null,
            "_view_module": "@jupyter-widgets/base",
            "_view_module_version": "1.2.0",
            "_view_name": "LayoutView",
            "align_content": null,
            "align_items": null,
            "align_self": null,
            "border": null,
            "bottom": null,
            "display": null,
            "flex": null,
            "flex_flow": null,
            "grid_area": null,
            "grid_auto_columns": null,
            "grid_auto_flow": null,
            "grid_auto_rows": null,
            "grid_column": null,
            "grid_gap": null,
            "grid_row": null,
            "grid_template_areas": null,
            "grid_template_columns": null,
            "grid_template_rows": null,
            "height": null,
            "justify_content": null,
            "justify_items": null,
            "left": null,
            "margin": null,
            "max_height": null,
            "max_width": null,
            "min_height": null,
            "min_width": null,
            "object_fit": null,
            "object_position": null,
            "order": null,
            "overflow": null,
            "overflow_x": null,
            "overflow_y": null,
            "padding": null,
            "right": null,
            "top": null,
            "visibility": null,
            "width": null
          }
        },
        "986bd9630a1c453c8d7db0f99bcfb27e": {
          "model_module": "@jupyter-widgets/controls",
          "model_name": "SliderStyleModel",
          "model_module_version": "1.5.0",
          "state": {
            "_model_module": "@jupyter-widgets/controls",
            "_model_module_version": "1.5.0",
            "_model_name": "SliderStyleModel",
            "_view_count": null,
            "_view_module": "@jupyter-widgets/base",
            "_view_module_version": "1.2.0",
            "_view_name": "StyleView",
            "description_width": "",
            "handle_color": null
          }
        },
        "094e5d744afd42e3bb6713e5212da3ae": {
          "model_module": "@jupyter-widgets/base",
          "model_name": "LayoutModel",
          "model_module_version": "1.2.0",
          "state": {
            "_model_module": "@jupyter-widgets/base",
            "_model_module_version": "1.2.0",
            "_model_name": "LayoutModel",
            "_view_count": null,
            "_view_module": "@jupyter-widgets/base",
            "_view_module_version": "1.2.0",
            "_view_name": "LayoutView",
            "align_content": null,
            "align_items": null,
            "align_self": null,
            "border": null,
            "bottom": null,
            "display": null,
            "flex": null,
            "flex_flow": null,
            "grid_area": null,
            "grid_auto_columns": null,
            "grid_auto_flow": null,
            "grid_auto_rows": null,
            "grid_column": null,
            "grid_gap": null,
            "grid_row": null,
            "grid_template_areas": null,
            "grid_template_columns": null,
            "grid_template_rows": null,
            "height": null,
            "justify_content": null,
            "justify_items": null,
            "left": null,
            "margin": null,
            "max_height": null,
            "max_width": null,
            "min_height": null,
            "min_width": null,
            "object_fit": null,
            "object_position": null,
            "order": null,
            "overflow": null,
            "overflow_x": null,
            "overflow_y": null,
            "padding": null,
            "right": null,
            "top": null,
            "visibility": null,
            "width": null
          }
        }
      }
    }
  },
  "cells": [
    {
      "cell_type": "markdown",
      "source": [
        "To decode the message sent to watson from sherlock, I played around with different image processing methods.\n",
        "\n",
        "firstly, converting the image from RGB2GRAY helps me find the first piece of the puzzle"
      ],
      "metadata": {
        "id": "PcNWTjGhWkOz"
      }
    },
    {
      "cell_type": "code",
      "source": [
        "import cv2\n",
        "import matplotlib.pyplot as plt\n",
        "\n",
        "# Load an RGB image from a file\n",
        "image = cv2.imread('for_watson.png')\n",
        "\n",
        "if image is not None:\n",
        "    # Convert the RGB image to grayscale\n",
        "    grayscale_image = cv2.cvtColor(image, cv2.COLOR_RGB2GRAY)\n",
        "\n",
        "    # Display the grayscale image using matplotlib\n",
        "    plt.imshow(grayscale_image, cmap='gray')\n",
        "    plt.axis('off')  # Turn off axis labels\n",
        "    plt.show()\n",
        "else:\n",
        "    print('Image not found or could not be loaded.')"
      ],
      "metadata": {
        "colab": {
          "base_uri": "https://localhost:8080/",
          "height": 406
        },
        "id": "d5al-h5vsEJ8",
        "outputId": "ac48fc1c-5c0e-4efb-da3b-b4d412320002"
      },
      "execution_count": 4,
      "outputs": [
        {
          "output_type": "display_data",
          "data": {
            "text/plain": [
              "<Figure size 640x480 with 1 Axes>"
            ],
            "image/png": "[encoded data removed]"
          },
          "metadata": {}
        }
      ]
    },
    {
      "cell_type": "markdown",
      "source": [
        "To figure out the second piece of the puzzle, I converted the image from RGB2HSV\n",
        "then I set my HSV upper and lower threshold values using a custom built GUI.I did a bitwise_and masking and\n",
        "stoped when I found a suitable threshold values that displayed the second piece of the puzzle"
      ],
      "metadata": {
        "id": "-yYmH2htZsFY"
      }
    },
    {
      "cell_type": "code",
      "source": [
        "import cv2\n",
        "import numpy as np\n",
        "import matplotlib.pyplot as plt\n",
        "from ipywidgets import interact, widgets\n",
        "\n",
        "\n",
        "def threshold_hsv(hue_low, hue_high, saturation_low, saturation_high, value_low, value_high):\n",
        "    # Convert the BGR image to HSV\n",
        "    hsv_image = cv2.cvtColor(image, cv2.COLOR_BGR2HSV)\n",
        "\n",
        "    # Create masks for each channel based on the threshold values\n",
        "    hue_mask = cv2.inRange(hsv_image, (hue_low, saturation_low, value_low), (hue_high, saturation_high, value_high))\n",
        "\n",
        "    # Apply the masks to the original image\n",
        "    thresholded_image = cv2.bitwise_and(image, image, mask=hue_mask)\n",
        "\n",
        "    # Display the thresholded image using matplotlib\n",
        "    plt.figure(figsize=(6, 6))\n",
        "    plt.imshow(cv2.cvtColor(thresholded_image, cv2.COLOR_BGR2RGB))\n",
        "    plt.title('Thresholded Image (HSV)')\n",
        "    plt.axis('off')\n",
        "    plt.show()\n",
        "\n",
        "# Define the interactive sliders for threshold values\n",
        "interact(threshold_hsv,\n",
        "         hue_low=widgets.IntSlider(min=0, max=180, step=1, value=0, description='Hue Low'),\n",
        "         hue_high=widgets.IntSlider(min=0, max=180, step=1, value=30, description='Hue High'),\n",
        "         saturation_low=widgets.IntSlider(min=0, max=255, step=1, value=50, description='Saturation Low'),\n",
        "         saturation_high=widgets.IntSlider(min=0, max=255, step=1, value=255, description='Saturation High'),\n",
        "         value_low=widgets.IntSlider(min=0, max=255, step=1, value=50, description='Value Low'),\n",
        "         value_high=widgets.IntSlider(min=0, max=255, step=1, value=255, description='Value High'))\n"
      ],
      "metadata": {
        "colab": {
          "base_uri": "https://localhost:8080/",
          "height": 617,
          "referenced_widgets": [
            "5b480a3f10b94b4ca97b5c5ddddc67c7",
            "138e00154d9c44b38bda9b76c7e947cc",
            "b0d3779dc8484a0ab668deac20a37fd0",
            "86a8f480387e435698363572ae8c2a5b",
            "716ef25fd55745c1bd00b083d85abe77",
            "f0121806b93543d0b3aa9039b959a924",
            "be04532eb79948759dbdea41a2148218",
            "7c89ec5e1c4e45e7b6bdac0150016914",
            "ea3ce90aa7d9499d86729e82973077de",
            "56db5196218e4f288dc3e4a8aa521eba",
            "cb94e29dfca54f2bb5ab56fee0985160",
            "a95ace0947874e58899f55c33f89d462",
            "d1883dc3fa8643f0bf9cabce49f91cc1",
            "60e7eac45ad446978edb83bb795d4150",
            "32679fc25b824c36bc8aeaca138b9ce6",
            "a2d0356a13944f99850ec905a013d305",
            "76bc99604f2a44d2bff1b377b5c3f1dc",
            "b06ee85c239b4136868223f30f53407b",
            "ec6e088c5e0d452782d13319acd201e3",
            "3451e04e7f1d4740b68c38c212644bd1",
            "986bd9630a1c453c8d7db0f99bcfb27e",
            "094e5d744afd42e3bb6713e5212da3ae"
          ]
        },
        "id": "2RlDV44nt0fr",
        "outputId": "c3dc631a-cdca-477c-904d-17f3061facdb"
      },
      "execution_count": 5,
      "outputs": [
        {
          "output_type": "display_data",
          "data": {
            "text/plain": [
              "interactive(children=(IntSlider(value=0, description='Hue Low', max=180), IntSlider(value=30, description='Hue…"
            ],
            "application/vnd.jupyter.widget-view+json": {
              "version_major": 2,
              "version_minor": 0,
              "model_id": "5b480a3f10b94b4ca97b5c5ddddc67c7"
            }
          },
          "metadata": {}
        },
        {
          "output_type": "execute_result",
          "data": {
            "text/plain": [
              "<function __main__.threshold_hsv(hue_low, hue_high, saturation_low, saturation_high, value_low, value_high)>"
            ]
          },
          "metadata": {},
          "execution_count": 5
        }
      ]
    },
    {
      "cell_type": "markdown",
      "source": [
        "I just played around with the different color channels of the image and\n",
        "I was able to get the third piece of the puzzle"
      ],
      "metadata": {
        "id": "hQobjT-EaHbG"
      }
    },
    {
      "cell_type": "code",
      "source": [
        "plt.imshow(image[:,:,0])"
      ],
      "metadata": {
        "colab": {
          "base_uri": "https://localhost:8080/",
          "height": 452
        },
        "id": "wSuDOzBZsRLI",
        "outputId": "8e87d388-73ff-48fe-b0e0-d331f5e93c25"
      },
      "execution_count": 6,
      "outputs": [
        {
          "output_type": "execute_result",
          "data": {
            "text/plain": [
              "<matplotlib.image.AxesImage at 0x7cc6d57154b0>"
            ]
          },
          "metadata": {},
          "execution_count": 6
        },
        {
          "output_type": "display_data",
          "data": {
            "text/plain": [
              "<Figure size 640x480 with 1 Axes>"
            ],
            "image/png": "[encoded data removed]"
          },
          "metadata": {}
        }
      ]
    },
    {
      "cell_type": "code",
      "source": [],
      "metadata": {
        "id": "mgo2EmG8w30S"
      },
      "execution_count": 6,
      "outputs": []
    }
  ]
}